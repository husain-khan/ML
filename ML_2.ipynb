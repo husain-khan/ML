{
  "nbformat": 4,
  "nbformat_minor": 0,
  "metadata": {
    "colab": {
      "provenance": []
    },
    "kernelspec": {
      "name": "python3",
      "display_name": "Python 3"
    },
    "language_info": {
      "name": "python"
    }
  },
  "cells": [
    {
      "cell_type": "code",
      "execution_count": null,
      "metadata": {
        "id": "8gmygDLoC9ux"
      },
      "outputs": [],
      "source": [
        "\n"
      ]
    },
    {
      "cell_type": "code",
      "source": [
        "def find_s(examples):\n",
        "    # Initialize hypothesis to the most specific hypothesis\n",
        "    hypothesis =  ['ϕ', 'ϕ', 'ϕ', 'ϕ']\n",
        "\n",
        "    # For each positive example in the data\n",
        "    for example in examples:\n",
        "        if example[-1] == 'Yes':  # Positive example\n",
        "            for i in range(len(hypothesis)):\n",
        "                # Update hypothesis if attribute value is different\n",
        "                if hypothesis[i] == 'ϕ':\n",
        "                    hypothesis[i] = example[i]\n",
        "                elif hypothesis[i] != example[i]:\n",
        "                    hypothesis[i] = '?'\n",
        "\n",
        "    return hypothesis\n",
        "# Example usage:\n",
        "# data = [\n",
        "#     ['Sunny', 'Warm', 'Normal', 'Strong', 'Warm', 'Same', 'Yes'],\n",
        "#     ['Sunny', 'Warm', 'High', 'Strong', 'Warm', 'Same', 'Yes'],\n",
        "#     ['Rainy', 'Cold', 'High', 'Strong', 'Warm', 'Change', 'No'],\n",
        "#     ['Sunny', 'Warm', 'High', 'Strong', 'Cool', 'Change', 'Yes']\n",
        "# ]\n",
        "\n",
        "data = [['Green','Hard','No','Wrinkled','Yes'],\n",
        "        ['Green','Hard','Yes','Wrinkled','No'],\n",
        "        ['Brown','Soft ','No','Wrinkled','No'],\n",
        "        ['Orange','Hard','No','Wrinkled','Yes'],\n",
        "        ['Green','Soft','Yes','Smooth','Yes'],\n",
        "        ['Green','Hard','Yes','Wrinkled','Yes'],\n",
        "        ['Orange','Hard','NO','Wrinkled','Yes']\n",
        "        ]\n",
        "hypothesis = find_s(data)\n",
        "print(\"Final hypothesis:\", hypothesis)\n"
      ],
      "metadata": {
        "colab": {
          "base_uri": "https://localhost:8080/"
        },
        "id": "DnMdJrTNH-0Z",
        "outputId": "7b9fca85-f6d1-4b6e-c551-49c3103ac8ec"
      },
      "execution_count": null,
      "outputs": [
        {
          "output_type": "stream",
          "name": "stdout",
          "text": [
            "Final hypothesis: ['?', '?', '?', '?']\n"
          ]
        }
      ]
    },
    {
      "cell_type": "code",
      "source": [],
      "metadata": {
        "id": "ObdBOnxdIgoS"
      },
//machine learning we are applying knn here which is k nearest neighbour algorithm  
      "execution_count": null,
      "outputs": []
    }
  ]
}
